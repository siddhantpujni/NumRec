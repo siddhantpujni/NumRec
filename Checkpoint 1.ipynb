{
 "cells": [
  {
   "cell_type": "markdown",
   "id": "annoying-brunswick",
   "metadata": {
    "deletable": false,
    "editable": false,
    "nbgrader": {
     "cell_type": "markdown",
     "checksum": "67ba76bc297907a5b040ecd3a42268a5",
     "grade": false,
     "grade_id": "cell-7e6c8bd6940b47c7",
     "locked": true,
     "schema_version": 3,
     "solution": false,
     "task": false
    }
   },
   "source": [
    "# Checkpoint 1\n",
    "\n",
    "**Due: Tuesday, 15 October 2024 at 11:00am BST**\n",
    "\n",
    "Total points: 100\n",
    "\n",
    "### Read This First\n",
    "\n",
    "* The only external Python packages you may use are `matplotlib`, `numpy`, and `scipy`.\n",
    "\n",
    "* Use the constants provided in the cells. Do not use your own constants.\n",
    "\n",
    "* Wherever you see `raise NotImplementedError()`, remove that line and put your code there.\n",
    "\n",
    "* Put the code that produces the output for a given task in the cell indicated. \n",
    "\n",
    "* You are welcome to add as many cells as you like for imports, new function definitions, variables, etc.\n",
    "\n",
    "* Your notebook must run correctly when executed once from start to finish. Your notebook will be graded based on how it runs, not how it looks when you submit it. To test this, go to the *Kernel* menu and select *Restart & Run All*.\n",
    "\n",
    "* Once you are happy with it, clear the output by selecting *Restart & Clear Output* from the *Kernel* menu.\n",
    "\n",
    "* Submit through Noteable.\n",
    "\n",
    "* Unless specified otherwise your code for each task must complete in less than 60 seconds.\n"
   ]
  },
  {
   "cell_type": "code",
   "execution_count": 1,
   "id": "extreme-moses",
   "metadata": {},
   "outputs": [],
   "source": [
    "from matplotlib import pyplot as plt\n",
    "from scipy import interpolate, sparse, integrate\n",
    "from scipy.sparse import linalg as splinalg\n",
    "import numpy as np\n",
    "import time\n",
    "\n",
    "%matplotlib inline"
   ]
  },
  {
   "cell_type": "code",
   "execution_count": 2,
   "id": "faced-stylus",
   "metadata": {},
   "outputs": [],
   "source": [
    "plt.rcParams[\"figure.figsize\"] = (10, 6)\n",
    "plt.rcParams[\"font.size\"] = 14"
   ]
  },
  {
   "cell_type": "markdown",
   "id": "eb38b78a",
   "metadata": {
    "deletable": false,
    "editable": false,
    "nbgrader": {
     "cell_type": "markdown",
     "checksum": "d5cfae1b7bc779a4ad026be1198eebb7",
     "grade": false,
     "grade_id": "cell-be0f30ea8f875921",
     "locked": true,
     "schema_version": 3,
     "solution": false,
     "task": false
    }
   },
   "source": [
    "![](p1.png)"
   ]
  },
  {
   "cell_type": "code",
   "execution_count": 3,
   "id": "ca3336e3-fbdb-4583-aa7c-adba726569a2",
   "metadata": {
    "deletable": false,
    "nbgrader": {
     "cell_type": "code",
     "checksum": "839826365c77299e03902e4097f17d8f",
     "grade": false,
     "grade_id": "p1-answer",
     "locked": false,
     "schema_version": 3,
     "solution": true,
     "task": false
    }
   },
   "outputs": [],
   "source": [
    "def interpolate_files(file1, file2):\n",
    "    \"\"\"\n",
    "    This function *must* return numpy array of interpolated values\n",
    "    DO NOT MODIFY the name and arguments of the function\n",
    "    But you are free to create more functions with different names.\n",
    "    \"\"\"\n",
    "    # Reading in the data files\n",
    "    x, y = np.loadtxt(file1)\n",
    "    xnew = np.loadtxt(file2)\n",
    "    \n",
    "    # Sorting x and y in ascending order  \n",
    "    ind = np.argsort(x)\n",
    "    xsorted = x[ind]\n",
    "    ysorted = y[ind]\n",
    "    \n",
    "    indnew = np.argsort(xnew)\n",
    "    xnew = xnew[indnew]\n",
    "\n",
    "    # Find the best interpolation\n",
    "    ynew, best_method, best_s = find_best_interpolation(xsorted, ysorted, xnew)\n",
    "    \n",
    "    s_rounded = f\"{best_s:.2f}\" if best_s else \"None\"\n",
    "    \n",
    "    # Plotting\n",
    "    plt.scatter(xsorted, ysorted, color=\"red\", label=\"Original Data\")\n",
    "    plt.plot(xnew, ynew, color=\"blue\", label=f\"{best_method}, s = {s_rounded}\")\n",
    "    plt.legend()\n",
    "    plt.xlabel(\"x\")\n",
    "    plt.ylabel(\"y\")\n",
    "    plt.title(\"Plot of Interpolated Values Overplotted on Original Data\")\n",
    "    plt.show()\n",
    "    return ynew\n",
    "\n",
    "def find_best_interpolation(xsorted, ysorted, xnew):\n",
    "    \n",
    "    # Generating smoothing factors to loop over to test for Univariate Spline\n",
    "    smoothing_factors = np.logspace(np.log10(10), np.log10(100000), num=10000)\n",
    "    best_s = None \n",
    "    \n",
    "    # List of methods to test\n",
    "    methods = [\"UnivariateSpline\", \"CubicSpline\", \"interp1d\"]\n",
    "\n",
    "    # Intialize empty list to store MSE values\n",
    "    mse_list = []\n",
    "    lowest_mse_univariate = float(\"inf\")\n",
    "\n",
    "    # Iterating over the methods list, evaluating each method, storing the lowest MSE in a list for each method\n",
    "    for method in methods:\n",
    "        if method == \"UnivariateSpline\":\n",
    "            for s in smoothing_factors:\n",
    "                mse = evaluate_predictitions_spline(xsorted, ysorted, \"UnivariateSpline\", s)\n",
    "                if mse < lowest_mse_univariate:\n",
    "                    lowest_mse_univariate = mse\n",
    "                    best_s_univariate = s\n",
    "            mse_list.append((lowest_mse_univariate, \"UnivariateSpline\", best_s_univariate))\n",
    "            \n",
    "        elif method == \"CubicSpline\":\n",
    "            mse = evaluate_predictitions_spline(xsorted, ysorted, method, None)\n",
    "            mse_list.append((mse, \"CubicSpline\", None))\n",
    "            \n",
    "        elif method == \"interp1d\":\n",
    "            mse = evaluate_predictitions_spline(xsorted, ysorted, method, None)\n",
    "            mse_list.append((mse, \"interp1d\", None))\n",
    "    \n",
    "    # Finding the lowest MSE found in the list and corresponding method\n",
    "    best_mse, best_method, best_s = min(mse_list, key=lambda x: x[0])\n",
    "\n",
    "    # Print function for method, error, smoothing factor\n",
    "    for mse, method, s in mse_list:\n",
    "        s_rounded = f\"{s:.2f}\" if s else \"None\"\n",
    "        print(f\"MSE = {mse:.6f}, Interpolation Method = {method}, Smoothing Factor = {s_rounded}\")\n",
    "    \n",
    "     # Perform interpolation using the best method\n",
    "    if best_method == \"UnivariateSpline\":\n",
    "        best_interpolator = interpolate.UnivariateSpline(xsorted, ysorted, s = best_s)\n",
    "    elif best_method == \"CubicSpline\":\n",
    "        best_interpolator = interpolate.CubicSpline(xsorted, ysorted)\n",
    "    elif best_method == \"interp1d\":\n",
    "        best_interpolator = interpolate.interp1d(xsorted, ysorted, kind = \"linear\")\n",
    "\n",
    "    # ynew calculated based on best interpolation method\n",
    "    ynew = best_interpolator(xnew)\n",
    "    return ynew, best_method, best_s\n",
    "\n",
    "def evaluate_predictitions_spline(xsorted, ysorted, method, s):\n",
    "    \"\"\"\n",
    "    Here we test the predictive abilities of the spline\n",
    "    By splitting the data into 3 chunks and returning the\n",
    "    mean square deviations for a given interpolator. taken from workshop code.\n",
    "    \"\"\"\n",
    "    nsplit = 3\n",
    "    pos = np.arange(len(xsorted))\n",
    "    ret = 0\n",
    "    for i in range(nsplit):\n",
    "        testsubset = pos % nsplit == i\n",
    "        fitsubset = ~testsubset\n",
    "        \n",
    "        curx = xsorted[fitsubset]\n",
    "        cury = ysorted[fitsubset]\n",
    "        \n",
    "        testx = xsorted[testsubset]\n",
    "        testy = ysorted[testsubset]\n",
    "\n",
    "        # Logic to apply different interpolation method depending on methods list\n",
    "        if method == \"UnivariateSpline\":\n",
    "            I = interpolate.UnivariateSpline(curx, cury, s=s)\n",
    "        elif method == \"CubicSpline\":\n",
    "            I = interpolate.CubicSpline(curx, cury)\n",
    "        elif method == \"interp1d\":\n",
    "            testx = np.clip(testx, curx[0], curx[-1])\n",
    "            I = interpolate.interp1d(curx, cury, kind=\"linear\")\n",
    "        \n",
    "        ret += np.mean((I(testx) - testy)**2)\n",
    "    ret /= nsplit\n",
    "    return ret"
   ]
  },
  {
   "cell_type": "markdown",
   "id": "fitting-collaboration",
   "metadata": {
    "deletable": false,
    "editable": false,
    "nbgrader": {
     "cell_type": "markdown",
     "checksum": "4b798fc7c30758ecf511931c8e62f777",
     "grade": false,
     "grade_id": "cell-73904f7eb0cf0357",
     "locked": true,
     "schema_version": 3,
     "solution": false,
     "task": false
    }
   },
   "source": [
    "The cell below will run tests when grading."
   ]
  },
  {
   "cell_type": "code",
   "execution_count": 4,
   "id": "8ef6e8a0-93a9-4aec-be7c-9aff9f31ffda",
   "metadata": {
    "deletable": false,
    "editable": false,
    "nbgrader": {
     "cell_type": "code",
     "checksum": "b65dc9a32c1e355a91f673ac5c8a6d92",
     "grade": true,
     "grade_id": "p1-test",
     "locked": true,
     "points": 0,
     "schema_version": 3,
     "solution": false,
     "task": false
    }
   },
   "outputs": [
    {
     "name": "stdout",
     "output_type": "stream",
     "text": [
      "MSE = 155.475160, Interpolation Method = UnivariateSpline, Smoothing Factor = 6922.84\n",
      "MSE = 5957.452712, Interpolation Method = CubicSpline, Smoothing Factor = None\n",
      "MSE = 202.199511, Interpolation Method = interp1d, Smoothing Factor = None\n"
     ]
    },
    {
     "data": {
      "image/png": "[encoded data removed]",
      "text/plain": [
       "<Figure size 1000x600 with 1 Axes>"
      ]
     },
     "metadata": {},
     "output_type": "display_data"
    }
   ],
   "source": [
    "### print(\"Testing, testing...\")\n",
    "# This should run and return an array and do the plot\n",
    "pred = interpolate_files(\n",
    "    \"checkpoint1_problem1_file1.txt\", \"checkpoint1_problem1_file2.txt\"\n",
    ")\n",
    "# check the array of correct length is returned\n",
    "assert len(pred) == 220\n",
    "\n",
    "# Below we run additional hidden tests"
   ]
  },
  {
   "cell_type": "markdown",
   "id": "appropriate-arrival",
   "metadata": {
    "deletable": false,
    "editable": false,
    "nbgrader": {
     "cell_type": "markdown",
     "checksum": "11ee74fad2591d5bc006c609597861c6",
     "grade": false,
     "grade_id": "cell-6b2a06078effc715",
     "locked": true,
     "schema_version": 3,
     "solution": false,
     "task": false
    }
   },
   "source": [
    "![](p2.png)"
   ]
  },
  {
   "cell_type": "code",
   "execution_count": 5,
   "id": "frank-davis",
   "metadata": {},
   "outputs": [],
   "source": [
    "# Constants (use these)\n",
    "c1 = 0.03809982  # nm^2 eV - hbar^2/2m\n",
    "c2 = 1.43996461  # nm eV - e^2/4*pi*electric_constant\n",
    "r0 = 0.0529177  # nm\n",
    "h = 6.62607015e-34  # J s\n",
    "c = 299792458.0  # m/s\n",
    "hc = 1239.8420  # eV nm"
   ]
  },
  {
   "cell_type": "markdown",
   "id": "happy-methodology",
   "metadata": {
    "deletable": false,
    "editable": false,
    "nbgrader": {
     "cell_type": "markdown",
     "checksum": "7ab41d3349fafa5d9d0e2a68f28c1a25",
     "grade": false,
     "grade_id": "cell-268fb1e71c1478e4",
     "locked": true,
     "schema_version": 3,
     "solution": false,
     "task": false
    }
   },
   "source": [
    "![](p2t1.png)"
   ]
  },
  {
   "cell_type": "code",
   "execution_count": 6,
   "id": "individual-coverage",
   "metadata": {
    "deletable": false,
    "nbgrader": {
     "cell_type": "code",
     "checksum": "9079812bda8bd608b074a438402881ee",
     "grade": false,
     "grade_id": "p2t1-answer",
     "locked": false,
     "schema_version": 3,
     "solution": true,
     "task": false
    },
    "slideshow": {
     "slide_type": ""
    },
    "tags": []
   },
   "outputs": [],
   "source": [
    "def calculate_energy_levels(tol):\n",
    "    # Parameters needed for calculation\n",
    "    N = 3 \n",
    "    r_max = 1.5\n",
    "    \n",
    "    while True:\n",
    "        r_min = r_max / N  #also step size (h for laplacian)\n",
    "        \n",
    "        r_values = np.linspace(r_min, r_max, N)\n",
    "\n",
    "        # Kinetic energy and laplacian operator\n",
    "        diagonal = -2 * np.ones(N)\n",
    "        off_diagonal = np.ones(N - 1)\n",
    "        T = sparse.diags([off_diagonal, diagonal, off_diagonal], [-1, 0, 1]) / r_min**2\n",
    "\n",
    "        # Potential energy operator\n",
    "        V_matrix = sparse.diags(-c2/r_values, shape = (N, N))\n",
    "\n",
    "        # Making Hamiltonian matrix\n",
    "        H = -c1 * T + V_matrix\n",
    "\n",
    "        # Using eigsh to find eigenvalues with tolerance as an input for quicker calcualtions\n",
    "        l, v = splinalg.eigsh(H, k = 2, which = \"SA\", tol = tol)\n",
    "\n",
    "        # Sort and extract the two lowest energy levels\n",
    "        E1, E2 = np.sort(l)[:2]\n",
    "\n",
    "        # Theoretical energy values\n",
    "        E1_theoretical = -c2 / (2 * r0)\n",
    "        E2_theoretical = E1_theoretical / 4\n",
    "\n",
    "        # Error compared to theoretical values\n",
    "        error1 = abs((E1 - E1_theoretical) / E1_theoretical)\n",
    "        error2 = abs((E2 - E2_theoretical) / E2_theoretical)\n",
    "\n",
    "        # returning energy levels if they are within the tolerance\n",
    "        if error1 <= tol and error2 <= tol:\n",
    "            print(f\"Final size of Hamiltoninan used was: {N} x {N}\")\n",
    "            return E1, E2\n",
    "\n",
    "        # Increase N and try again if tolerance is not met\n",
    "        N += 1  "
   ]
  },
  {
   "cell_type": "markdown",
   "id": "e673b34b",
   "metadata": {
    "deletable": false,
    "editable": false,
    "nbgrader": {
     "cell_type": "markdown",
     "checksum": "24d15b7df926a953030f8e7f30fa2d6f",
     "grade": false,
     "grade_id": "cell-9ac667ae7198d428",
     "locked": true,
     "schema_version": 3,
     "solution": false,
     "task": false
    }
   },
   "source": [
    "The cell below should run your code correctly. Additional tests with other tolerance values will be used for assessment."
   ]
  },
  {
   "cell_type": "code",
   "execution_count": 7,
   "id": "9acbb828",
   "metadata": {
    "deletable": false,
    "editable": false,
    "nbgrader": {
     "cell_type": "code",
     "checksum": "21eafc39ef634789659f8cfb0a708f1d",
     "grade": true,
     "grade_id": "p2t1-test",
     "locked": true,
     "points": 0,
     "schema_version": 3,
     "solution": false,
     "task": false
    },
    "slideshow": {
     "slide_type": ""
    },
    "tags": []
   },
   "outputs": [
    {
     "name": "stdout",
     "output_type": "stream",
     "text": [
      "Final size of Hamiltoninan used was: 448 x 448\n",
      "Calculation time: 6.866612195968628 seconds.\n",
      "E1 = -13.592104789066083, error = 0.0009991653942632113\n",
      "E2 = -3.400572523577207, error = 0.0002505595972860291\n",
      "Hooray!\n"
     ]
    }
   ],
   "source": [
    "def check_p2t1(tol):\n",
    "    t1 = time.time()\n",
    "    E1, E2 = calculate_energy_levels(tol)\n",
    "    t2 = time.time()\n",
    "    print(f\"Calculation time: {t2 - t1} seconds.\")\n",
    "    Nerror = 0\n",
    "\n",
    "    Eth1 = -c2 / (2 * r0)\n",
    "    er1 = abs((E1 - Eth1) / Eth1)\n",
    "    print(f\"{E1 = }, error = {er1}\")\n",
    "    Nerror += int(er1 > tol)\n",
    "\n",
    "    Eth2 = Eth1 / 4\n",
    "    er2 = abs((E2 - Eth2) / Eth2)\n",
    "    print(f\"{E2 = }, error = {er2}\")\n",
    "    Nerror += int(er2 > tol)\n",
    "    return Nerror\n",
    "\n",
    "my_tol = 1e-3\n",
    "if check_p2t1(my_tol) == 0:\n",
    "    print (\"Hooray!\")"
   ]
  },
  {
   "cell_type": "markdown",
   "id": "piano-flashing",
   "metadata": {
    "deletable": false,
    "editable": false,
    "nbgrader": {
     "cell_type": "markdown",
     "checksum": "777413f51f1a2438432bdd6715a90bb7",
     "grade": false,
     "grade_id": "cell-c1ac14c82e6bbffe",
     "locked": true,
     "schema_version": 3,
     "solution": false,
     "task": false
    }
   },
   "source": [
    "![](p2t2.png)"
   ]
  },
  {
   "cell_type": "code",
   "execution_count": 8,
   "id": "stunning-institute",
   "metadata": {
    "deletable": false,
    "nbgrader": {
     "cell_type": "code",
     "checksum": "f71d22bf7f1e2bd36b6e544b427ad375",
     "grade": false,
     "grade_id": "p2t2-answer",
     "locked": false,
     "schema_version": 3,
     "solution": true,
     "task": false
    }
   },
   "outputs": [],
   "source": [
    "def potential_numerical(r, alpha):\n",
    "    \n",
    "    # Function to calculate the modified force with r`\n",
    "    def F_modified(r_prime):\n",
    "        return -c2 * (r_prime / r0)**alpha / r_prime**2\n",
    "\n",
    "    # Integrate from r to infinity\n",
    "    V, error = integrate.quad(F_modified, r, np.inf)\n",
    "    return V"
   ]
  },
  {
   "cell_type": "markdown",
   "id": "female-methodology",
   "metadata": {
    "deletable": false,
    "editable": false,
    "nbgrader": {
     "cell_type": "markdown",
     "checksum": "89dc121b9ad28ef4c4e8b3250a3378c8",
     "grade": false,
     "grade_id": "cell-c74656c6ee48b39e",
     "locked": true,
     "schema_version": 3,
     "solution": false,
     "task": false
    }
   },
   "source": [
    "The cell below will test your function for $\\alpha=0.018$ for a few values of radius."
   ]
  },
  {
   "cell_type": "code",
   "execution_count": 9,
   "id": "known-stations",
   "metadata": {
    "deletable": false,
    "editable": false,
    "nbgrader": {
     "cell_type": "code",
     "checksum": "a6d6886bce542c182dc014873287911f",
     "grade": true,
     "grade_id": "p2t2-test",
     "locked": true,
     "points": 0,
     "schema_version": 3,
     "solution": false,
     "task": false
    }
   },
   "outputs": [],
   "source": [
    "def potential_exact(r, alpha):\n",
    "    return c2 * np.power(r, alpha - 1) * np.power(r0, -alpha) / (alpha - 1)\n",
    "\n",
    "my_alpha = 0.018\n",
    "for my_r in np.linspace(0.01, 1, 100):\n",
    "    diff = abs(potential_numerical(my_r, my_alpha) - potential_exact(my_r, my_alpha))\n",
    "    assert diff <= 1e-5"
   ]
  },
  {
   "cell_type": "markdown",
   "id": "mechanical-polls",
   "metadata": {
    "deletable": false,
    "editable": false,
    "nbgrader": {
     "cell_type": "markdown",
     "checksum": "c4a9792c1e2693211d0fb7c2e30abb33",
     "grade": false,
     "grade_id": "cell-484fe07f737ba396",
     "locked": true,
     "schema_version": 3,
     "solution": false,
     "task": false
    }
   },
   "source": [
    "![](p2t3.png)"
   ]
  },
  {
   "cell_type": "code",
   "execution_count": 10,
   "id": "orange-robert",
   "metadata": {
    "deletable": false,
    "nbgrader": {
     "cell_type": "code",
     "checksum": "3be972904295c700a687b20b118d9931",
     "grade": false,
     "grade_id": "p2t3-plot",
     "locked": false,
     "schema_version": 3,
     "solution": true,
     "task": false
    }
   },
   "outputs": [
    {
     "data": {
      "image/png": "[encoded data removed]",
      "text/plain": [
       "<Figure size 1000x600 with 1 Axes>"
      ]
     },
     "metadata": {},
     "output_type": "display_data"
    }
   ],
   "source": [
    "# Parameters needed for plotting, taken from energy tolerance function\n",
    "final_N = 448 # couldn't figure out a way to use 'variable' N that updated based on task 1\n",
    "r_max = 1.5 \n",
    "r_min = r_max / final_N  \n",
    "r_values = np.linspace(r_min, r_max, final_N)\n",
    "\n",
    "V_classical = -c2 / r_values\n",
    "V_modified = np.array([potential_numerical(r, my_alpha) for r in r_values]) # numerical or exact potential??\n",
    "V_diff = V_modified - V_classical\n",
    "\n",
    "# Separate the cases where V_mod > V_classical and V_mod < V_classical\n",
    "r_greater = r_values[V_diff > 0]\n",
    "V_greater = V_diff[V_diff > 0]\n",
    "\n",
    "r_lesser = r_values[V_diff < 0]\n",
    "V_lesser = -V_diff[V_diff < 0]  \n",
    "\n",
    "# Create the plot\n",
    "plt.plot(r_greater, V_greater, label = \"$V_{\\mathrm{mod}} > V_{\\mathrm{classical}}$\", color=\"blue\") # V_mod > V_classical\n",
    "plt.plot(r_lesser, V_lesser, label = \"$V_{\\mathrm{mod}} < V_{\\mathrm{classical}}$\", color=\"red\") # V_mod < V_classical\n",
    "plt.xscale(\"log\")\n",
    "plt.yscale(\"log\")\n",
    "plt.xlabel(\"$r$ (nm)\")\n",
    "plt.ylabel(\"$|V_{\\mathrm{mod}} - V_{\\mathrm{classical}}|$ (eV)\")\n",
    "plt.title(\"Difference Between Modified and Classical Potentials\")\n",
    "plt.legend()\n",
    "plt.show()"
   ]
  },
  {
   "cell_type": "markdown",
   "id": "iraqi-sweden",
   "metadata": {
    "deletable": false,
    "editable": false,
    "nbgrader": {
     "cell_type": "markdown",
     "checksum": "5e4f8ec9f4e173e93f417095388a87df",
     "grade": false,
     "grade_id": "cell-51caa9b5ace2e178",
     "locked": true,
     "schema_version": 3,
     "solution": false,
     "task": false
    }
   },
   "source": [
    "![](p2t4.png)"
   ]
  },
  {
   "cell_type": "code",
   "execution_count": 11,
   "id": "incorporate-antarctica",
   "metadata": {
    "deletable": false,
    "nbgrader": {
     "cell_type": "code",
     "checksum": "8fa7500869556477b40e2510d08f60d4",
     "grade": false,
     "grade_id": "p2t4-answer",
     "locked": false,
     "schema_version": 3,
     "solution": true,
     "task": false
    }
   },
   "outputs": [],
   "source": [
    "def calculate_energy_levels_modified(alpha):\n",
    "    # Parameters needed for calculation, taken from energy tolerance function\n",
    "    N = 1024 \n",
    "    r_max = 1.5 \n",
    "    r_min = r_max / N # also step size (h for laplacian)\n",
    "    \n",
    "    r_values = np.linspace(r_min, r_max, N)\n",
    "\n",
    "    # Kinetic energy and laplacian operator\n",
    "    diagonal = -2 * np.ones(N)\n",
    "    off_diagonal = np.ones(N - 1)\n",
    "    T = sparse.diags([off_diagonal, diagonal, off_diagonal], [-1, 0, 1]) / r_min**2\n",
    "\n",
    "    # Modified potential energy operator (using numerical potential)\n",
    "    V = np.array([potential_numerical(r, alpha) for r in r_values]) # numerical or exact potential??\n",
    "    V_matrix = sparse.diags(V, shape = (N, N))\n",
    "\n",
    "    # Making Hamiltonian matrix\n",
    "    H = -c1 * T + V_matrix\n",
    "\n",
    "    # Using eigsh to find eigenvalues with tolerance as an input for quicker calcualtions\n",
    "    l, v = splinalg.eigsh(H, k=2, which = \"SA\", tol = 5e-4)\n",
    "\n",
    "    # Sort and extract the two lowest energy levels\n",
    "    E1, E2 = np.sort(l)[:2]\n",
    "    \n",
    "    return E1, E2"
   ]
  },
  {
   "cell_type": "markdown",
   "id": "universal-joining",
   "metadata": {
    "deletable": false,
    "editable": false,
    "nbgrader": {
     "cell_type": "markdown",
     "checksum": "2f78f8872da427d166a6db44dcc36958",
     "grade": false,
     "grade_id": "cell-210704ac6f4c83e7",
     "locked": true,
     "schema_version": 3,
     "solution": false,
     "task": false
    }
   },
   "source": [
    "The cell below will test your function against various values of $\\alpha$."
   ]
  },
  {
   "cell_type": "code",
   "execution_count": 12,
   "id": "welsh-salvation",
   "metadata": {
    "deletable": false,
    "editable": false,
    "nbgrader": {
     "cell_type": "code",
     "checksum": "ffc08463c1114de11fa68239da088c7a",
     "grade": true,
     "grade_id": "p2t4-test",
     "locked": true,
     "points": 0,
     "schema_version": 3,
     "solution": false,
     "task": false
    }
   },
   "outputs": [
    {
     "name": "stdout",
     "output_type": "stream",
     "text": [
      "alpha = 0.01: E1 = -13.805184248594596, E2 = -3.534497130923386\n"
     ]
    }
   ],
   "source": [
    "my_alpha = 0.01\n",
    "E1, E2 = calculate_energy_levels_modified(my_alpha)\n",
    "print(f\"alpha = {my_alpha}: {E1 = }, {E2 = }\")"
   ]
  },
  {
   "cell_type": "markdown",
   "id": "tracked-nation",
   "metadata": {
    "deletable": false,
    "editable": false,
    "nbgrader": {
     "cell_type": "markdown",
     "checksum": "a810a756c3652313db6100ada7066804",
     "grade": false,
     "grade_id": "cell-936bf792ceef031b",
     "locked": true,
     "schema_version": 3,
     "solution": false,
     "task": false
    }
   },
   "source": [
    "In the cell below, make the plot of $\\Delta E$ vs. $\\alpha$ as instructed above."
   ]
  },
  {
   "cell_type": "code",
   "execution_count": 13,
   "id": "secure-breakdown",
   "metadata": {
    "deletable": false,
    "nbgrader": {
     "cell_type": "code",
     "checksum": "c2d4979aac04e671560876fb34cadc25",
     "grade": false,
     "grade_id": "p2t4-plot",
     "locked": false,
     "schema_version": 3,
     "solution": true,
     "task": false
    }
   },
   "outputs": [
    {
     "data": {
      "image/png": "[encoded data removed]",
      "text/plain": [
       "<Figure size 1000x600 with 1 Axes>"
      ]
     },
     "metadata": {},
     "output_type": "display_data"
    }
   ],
   "source": [
    "alpha_values = np.linspace(0, 0.1, 10)\n",
    "                          \n",
    "# Calculate the energy levels and the difference deltaE for each alpha\n",
    "E_values = []\n",
    "\n",
    "for alpha in alpha_values:\n",
    "    E1, E2 = calculate_energy_levels_modified(alpha)\n",
    "    E = abs(E2 - E1)\n",
    "    E_values.append(E)\n",
    "    \n",
    "# Converting into an array so it can be used in the find_best_interpolation function later\n",
    "E_values = np.array(E_values)\n",
    "\n",
    "# Plot the graph\n",
    "plt.plot(alpha_values, E_values, marker=\"o\", color=\"b\", label=\"ΔE\" )\n",
    "plt.xlabel(\"Alpha (α)\")\n",
    "plt.ylabel(\"ΔE (eV)\")\n",
    "plt.title(\"Difference Between Two Lowest Energy Levels as a Function of Alpha\")\n",
    "plt.legend()\n",
    "plt.show()"
   ]
  },
  {
   "cell_type": "markdown",
   "id": "white-newport",
   "metadata": {
    "deletable": false,
    "editable": false,
    "nbgrader": {
     "cell_type": "markdown",
     "checksum": "0bf785d5ba38992bed11e5bdb4cf5977",
     "grade": false,
     "grade_id": "cell-5cb872bbd2dc8c06",
     "locked": true,
     "schema_version": 3,
     "solution": false,
     "task": false
    }
   },
   "source": [
    "![](p2t5.png)"
   ]
  },
  {
   "cell_type": "code",
   "execution_count": 14,
   "id": "inappropriate-depth",
   "metadata": {
    "deletable": false,
    "nbgrader": {
     "cell_type": "code",
     "checksum": "776603f3772839d8f5ffec1a33917ab0",
     "grade": false,
     "grade_id": "p2t5-answer",
     "locked": false,
     "schema_version": 3,
     "solution": true,
     "task": false
    }
   },
   "outputs": [],
   "source": [
    "def calculate_alpha(my_lambda):\n",
    "    \n",
    "    Enew = (hc) / my_lambda\n",
    "    \n",
    "    # Calling previously written interpolation method to calculate best value of alpha\n",
    "    alpha, best_method, best_s = find_best_interpolation(E_values, alpha_values, Enew)\n",
    "\n",
    "    return alpha.item()"
   ]
  },
  {
   "cell_type": "markdown",
   "id": "several-observation",
   "metadata": {
    "deletable": false,
    "editable": false,
    "nbgrader": {
     "cell_type": "markdown",
     "checksum": "0489b5ffefeca9df0a13d380f121ca35",
     "grade": false,
     "grade_id": "cell-12251fe279fb41cb",
     "locked": true,
     "schema_version": 3,
     "solution": false,
     "task": false
    }
   },
   "source": [
    "The cell below will run your function against additional values."
   ]
  },
  {
   "cell_type": "code",
   "execution_count": 15,
   "id": "curious-limit",
   "metadata": {
    "deletable": false,
    "editable": false,
    "nbgrader": {
     "cell_type": "code",
     "checksum": "f0a7510986a89f498bb777b38e0de24a",
     "grade": true,
     "grade_id": "p2t5-test",
     "locked": true,
     "points": 0,
     "schema_version": 3,
     "solution": false,
     "task": false
    }
   },
   "outputs": [
    {
     "name": "stdout",
     "output_type": "stream",
     "text": [
      "MSE = 0.000000, Interpolation Method = UnivariateSpline, Smoothing Factor = 10.00\n",
      "MSE = 0.000000, Interpolation Method = CubicSpline, Smoothing Factor = None\n",
      "MSE = 0.000021, Interpolation Method = interp1d, Smoothing Factor = None\n",
      "my_lambda = 119.06389972, my_alpha = 0.029999987274162056.\n"
     ]
    }
   ],
   "source": [
    "my_lambda = 119.06389972\n",
    "my_alpha = calculate_alpha(my_lambda)\n",
    "print(f\"{my_lambda = }, {my_alpha = }.\")"
   ]
  },
  {
   "cell_type": "markdown",
   "id": "c9a7673c",
   "metadata": {
    "deletable": false,
    "editable": false,
    "nbgrader": {
     "cell_type": "markdown",
     "checksum": "40e022dbd5a4b79b473788dc74c423dd",
     "grade": false,
     "grade_id": "cell-fc118bb49de9ec53",
     "locked": true,
     "schema_version": 3,
     "solution": false,
     "task": false
    }
   },
   "source": [
    "![](p3.png)"
   ]
  },
  {
   "cell_type": "code",
   "execution_count": 16,
   "id": "3506fdb5",
   "metadata": {
    "deletable": false,
    "nbgrader": {
     "cell_type": "code",
     "checksum": "42279d012518293f4809346d3105e0d1",
     "grade": false,
     "grade_id": "p3-answer",
     "locked": false,
     "schema_version": 3,
     "solution": true,
     "task": false
    }
   },
   "outputs": [],
   "source": [
    "def calculate_ellipse_size(filename):\n",
    "    \n",
    "    # Read in the data\n",
    "    p = np.loadtxt(filename)\n",
    "    \n",
    "    # Compute Covariance matrix to calculate Eigenvalues \n",
    "    cov = np.cov(p, rowvar = False)\n",
    "    \n",
    "    # Find Eigenvalues to find constants\n",
    "    l, v = np.linalg.eigh(cov)\n",
    "    \n",
    "    # Order Eigenvalues to find a, b, c based on given conditions\n",
    "    l = np.sort(l)[::-1]   \n",
    "    \n",
    "    # Square root of Eigenvalues (variance) to find standard deviation\n",
    "    a, b, c = np.sqrt(l)\n",
    "    return a, b, c"
   ]
  },
  {
   "cell_type": "code",
   "execution_count": 17,
   "id": "998dfaab",
   "metadata": {
    "deletable": false,
    "editable": false,
    "nbgrader": {
     "cell_type": "code",
     "checksum": "7fc5055f73a3559c97fef725d67a8f1c",
     "grade": true,
     "grade_id": "p3-test",
     "locked": true,
     "points": 0,
     "schema_version": 3,
     "solution": false,
     "task": false
    }
   },
   "outputs": [
    {
     "name": "stdout",
     "output_type": "stream",
     "text": [
      "a = 8.349393308146462, b = 5.061990884491184, c = 2.8558317852175312.\n"
     ]
    }
   ],
   "source": [
    "a, b, c = calculate_ellipse_size(\"ellipse.txt\")\n",
    "print(f\"{a = }, {b = }, {c = }.\")"
   ]
  }
 ],
 "metadata": {
  "kernelspec": {
   "display_name": "Python 3 (ipykernel)",
   "language": "python",
   "name": "python3"
  },
  "language_info": {
   "codemirror_mode": {
    "name": "ipython",
    "version": 3
   },
   "file_extension": ".py",
   "mimetype": "text/x-python",
   "name": "python",
   "nbconvert_exporter": "python",
   "pygments_lexer": "ipython3",
   "version": "3.11.9"
  }
 },
 "nbformat": 4,
 "nbformat_minor": 5
}
